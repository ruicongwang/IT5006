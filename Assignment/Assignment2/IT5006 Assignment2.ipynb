{
  "cells": [
    {
      "cell_type": "markdown",
      "metadata": {
        "id": "52fj0bRuXgvu"
      },
      "source": [
        "# Assignment 2: SoC Module Recommender System"
      ]
    },
    {
      "cell_type": "markdown",
      "metadata": {
        "id": "FjjJg5d_Xgvw"
      },
      "source": [
        "## Instructions to submit the assignment\n",
        "\n",
        "- Name your jupyter notebook as `Assignment2_[StudentID].ipynb`. For instance: `Assignment2_A0123873A.ipynb`\n",
        "- Your solution notebook must contain the python code that we can run to verify the answers.\n",
        "  - late within 1 hour: 10% reduction in grade\n",
        "  - late within 6 hours: 30% reduction in grade\n",
        "  - late within 12 hours: 50% reduction in grade\n",
        "  - late within 1 days: 70% reduction in grade\n",
        "  - after 1 days: zero mark\n",
        "- **This is an individual assessment. Refrain from working in groups.**"
      ]
    },
    {
      "cell_type": "markdown",
      "metadata": {
        "id": "pTnGjmPVXgvy"
      },
      "source": [
        "In this assignment we design a recomendation engine (Don't worry about the effectiveness of the system. It maybe very bad. The idea is just to offer you a proof of concept!). The recommendation engine suggests the students a module that closely matches the modules already taken by the student. The dataset comprices of two files:\n",
        "- List of modules in the School of Computing \n",
        "- List of graduated students and the modules they had taken during their studies"
      ]
    },
    {
      "cell_type": "markdown",
      "metadata": {
        "id": "PgL9CZ-pXgvz"
      },
      "source": [
        "# Loading the data"
      ]
    },
    {
      "cell_type": "code",
      "execution_count": 1,
      "metadata": {
        "id": "Tjl54HB5Xgvz"
      },
      "outputs": [],
      "source": [
        "import numpy as np\n",
        "import pandas as pd\n",
        "import matplotlib.pyplot as plt\n",
        "from sklearn.feature_extraction.text import CountVectorizer\n",
        "from sklearn.preprocessing import MultiLabelBinarizer\n",
        "from sklearn.decomposition import PCA\n",
        "from sklearn.neighbors import NearestNeighbors, KNeighborsClassifier\n",
        "from sklearn.pipeline import Pipeline, FeatureUnion\n",
        "import warnings\n",
        "warnings.filterwarnings(\"ignore\")\n",
        "'''\n",
        "    YOU MUST USE THE RANDOM SEED WHEREVER NEEDED\n",
        "'''\n",
        "rng = np.random.RandomState(42)"
      ]
    },
    {
      "cell_type": "code",
      "source": [
        "from google.colab import drive\n",
        "drive.mount('/content/drive')"
      ],
      "metadata": {
        "colab": {
          "base_uri": "https://localhost:8080/"
        },
        "id": "kmz7yFUQHOXp",
        "outputId": "1b339c3e-ae9b-4560-d45d-71a1672def2f"
      },
      "execution_count": 2,
      "outputs": [
        {
          "output_type": "stream",
          "name": "stdout",
          "text": [
            "Mounted at /content/drive\n"
          ]
        }
      ]
    },
    {
      "cell_type": "code",
      "source": [
        "courses = pd.read_csv(\"/content/drive/MyDrive/IT5006/Assignment2/courses.tsv\", sep='\\t')\n",
        "students = pd.read_csv(\"/content/drive/MyDrive/IT5006/Assignment2/students.tsv\", sep='\\t')"
      ],
      "metadata": {
        "id": "IWCF87vzHPNR"
      },
      "execution_count": 3,
      "outputs": []
    },
    {
      "cell_type": "code",
      "source": [
        "courses"
      ],
      "metadata": {
        "colab": {
          "base_uri": "https://localhost:8080/",
          "height": 424
        },
        "id": "MHZ0jmsIHQ9R",
        "outputId": "4ddd9123-23e9-42dd-9b6a-77903e1770e4"
      },
      "execution_count": 4,
      "outputs": [
        {
          "output_type": "execute_result",
          "data": {
            "text/plain": [
              "           code                            name  credits    workload  \\\n",
              "0        CS1010         Programming Methodology        4   2-1-1-3-3   \n",
              "1    CS1010FC/X         Programming Methodology        4   2-1-1-3-3   \n",
              "2       CS1010E         Programming Methodology        4   2-1-1-3-3   \n",
              "3       CS1010J         Programming Methodology        4   2-1-1-3-3   \n",
              "4       CS1010S         Programming Methodology        4   2-1-1-3-3   \n",
              "..          ...                             ...      ...         ...   \n",
              "179      CS6281   Topics in Computer Science II        4   3-0-0-3-4   \n",
              "180      CS6282  Topics in Computer Science III        4   3-0-0-3-4   \n",
              "181      CS6283   Topics in Computer Science IV        4   3-0-0-3-4   \n",
              "182      CS6284    Topics in Computer Science V        4   3-0-0-3-4   \n",
              "183      CS6285   Topics in Computer Science VI        4   3-0-0-3-4   \n",
              "\n",
              "                                                  info specialisation  \n",
              "0    This module introduces the fundamental concept...           Core  \n",
              "1    This module introduces the fundamental concept...           Core  \n",
              "2    This module introduces the fundamental concept...           Core  \n",
              "3    This module introduces the fundamental concept...           Core  \n",
              "4    This module introduces the fundamental concept...           Core  \n",
              "..                                                 ...            ...  \n",
              "179  Topics will be of an advanced computer science...            NaN  \n",
              "180  Topics will be of an advanced computer science...            NaN  \n",
              "181  Topics will be of an advanced computer science...            NaN  \n",
              "182  Topics will be of an advanced computer science...            NaN  \n",
              "183  Topics will be of an advanced computer science...            NaN  \n",
              "\n",
              "[184 rows x 6 columns]"
            ],
            "text/html": [
              "\n",
              "  <div id=\"df-1cbf7a4d-8f12-4a9f-815a-c1ef84688b7a\">\n",
              "    <div class=\"colab-df-container\">\n",
              "      <div>\n",
              "<style scoped>\n",
              "    .dataframe tbody tr th:only-of-type {\n",
              "        vertical-align: middle;\n",
              "    }\n",
              "\n",
              "    .dataframe tbody tr th {\n",
              "        vertical-align: top;\n",
              "    }\n",
              "\n",
              "    .dataframe thead th {\n",
              "        text-align: right;\n",
              "    }\n",
              "</style>\n",
              "<table border=\"1\" class=\"dataframe\">\n",
              "  <thead>\n",
              "    <tr style=\"text-align: right;\">\n",
              "      <th></th>\n",
              "      <th>code</th>\n",
              "      <th>name</th>\n",
              "      <th>credits</th>\n",
              "      <th>workload</th>\n",
              "      <th>info</th>\n",
              "      <th>specialisation</th>\n",
              "    </tr>\n",
              "  </thead>\n",
              "  <tbody>\n",
              "    <tr>\n",
              "      <th>0</th>\n",
              "      <td>CS1010</td>\n",
              "      <td>Programming Methodology</td>\n",
              "      <td>4</td>\n",
              "      <td>2-1-1-3-3</td>\n",
              "      <td>This module introduces the fundamental concept...</td>\n",
              "      <td>Core</td>\n",
              "    </tr>\n",
              "    <tr>\n",
              "      <th>1</th>\n",
              "      <td>CS1010FC/X</td>\n",
              "      <td>Programming Methodology</td>\n",
              "      <td>4</td>\n",
              "      <td>2-1-1-3-3</td>\n",
              "      <td>This module introduces the fundamental concept...</td>\n",
              "      <td>Core</td>\n",
              "    </tr>\n",
              "    <tr>\n",
              "      <th>2</th>\n",
              "      <td>CS1010E</td>\n",
              "      <td>Programming Methodology</td>\n",
              "      <td>4</td>\n",
              "      <td>2-1-1-3-3</td>\n",
              "      <td>This module introduces the fundamental concept...</td>\n",
              "      <td>Core</td>\n",
              "    </tr>\n",
              "    <tr>\n",
              "      <th>3</th>\n",
              "      <td>CS1010J</td>\n",
              "      <td>Programming Methodology</td>\n",
              "      <td>4</td>\n",
              "      <td>2-1-1-3-3</td>\n",
              "      <td>This module introduces the fundamental concept...</td>\n",
              "      <td>Core</td>\n",
              "    </tr>\n",
              "    <tr>\n",
              "      <th>4</th>\n",
              "      <td>CS1010S</td>\n",
              "      <td>Programming Methodology</td>\n",
              "      <td>4</td>\n",
              "      <td>2-1-1-3-3</td>\n",
              "      <td>This module introduces the fundamental concept...</td>\n",
              "      <td>Core</td>\n",
              "    </tr>\n",
              "    <tr>\n",
              "      <th>...</th>\n",
              "      <td>...</td>\n",
              "      <td>...</td>\n",
              "      <td>...</td>\n",
              "      <td>...</td>\n",
              "      <td>...</td>\n",
              "      <td>...</td>\n",
              "    </tr>\n",
              "    <tr>\n",
              "      <th>179</th>\n",
              "      <td>CS6281</td>\n",
              "      <td>Topics in Computer Science II</td>\n",
              "      <td>4</td>\n",
              "      <td>3-0-0-3-4</td>\n",
              "      <td>Topics will be of an advanced computer science...</td>\n",
              "      <td>NaN</td>\n",
              "    </tr>\n",
              "    <tr>\n",
              "      <th>180</th>\n",
              "      <td>CS6282</td>\n",
              "      <td>Topics in Computer Science III</td>\n",
              "      <td>4</td>\n",
              "      <td>3-0-0-3-4</td>\n",
              "      <td>Topics will be of an advanced computer science...</td>\n",
              "      <td>NaN</td>\n",
              "    </tr>\n",
              "    <tr>\n",
              "      <th>181</th>\n",
              "      <td>CS6283</td>\n",
              "      <td>Topics in Computer Science IV</td>\n",
              "      <td>4</td>\n",
              "      <td>3-0-0-3-4</td>\n",
              "      <td>Topics will be of an advanced computer science...</td>\n",
              "      <td>NaN</td>\n",
              "    </tr>\n",
              "    <tr>\n",
              "      <th>182</th>\n",
              "      <td>CS6284</td>\n",
              "      <td>Topics in Computer Science V</td>\n",
              "      <td>4</td>\n",
              "      <td>3-0-0-3-4</td>\n",
              "      <td>Topics will be of an advanced computer science...</td>\n",
              "      <td>NaN</td>\n",
              "    </tr>\n",
              "    <tr>\n",
              "      <th>183</th>\n",
              "      <td>CS6285</td>\n",
              "      <td>Topics in Computer Science VI</td>\n",
              "      <td>4</td>\n",
              "      <td>3-0-0-3-4</td>\n",
              "      <td>Topics will be of an advanced computer science...</td>\n",
              "      <td>NaN</td>\n",
              "    </tr>\n",
              "  </tbody>\n",
              "</table>\n",
              "<p>184 rows × 6 columns</p>\n",
              "</div>\n",
              "      <button class=\"colab-df-convert\" onclick=\"convertToInteractive('df-1cbf7a4d-8f12-4a9f-815a-c1ef84688b7a')\"\n",
              "              title=\"Convert this dataframe to an interactive table.\"\n",
              "              style=\"display:none;\">\n",
              "        \n",
              "  <svg xmlns=\"http://www.w3.org/2000/svg\" height=\"24px\"viewBox=\"0 0 24 24\"\n",
              "       width=\"24px\">\n",
              "    <path d=\"M0 0h24v24H0V0z\" fill=\"none\"/>\n",
              "    <path d=\"M18.56 5.44l.94 2.06.94-2.06 2.06-.94-2.06-.94-.94-2.06-.94 2.06-2.06.94zm-11 1L8.5 8.5l.94-2.06 2.06-.94-2.06-.94L8.5 2.5l-.94 2.06-2.06.94zm10 10l.94 2.06.94-2.06 2.06-.94-2.06-.94-.94-2.06-.94 2.06-2.06.94z\"/><path d=\"M17.41 7.96l-1.37-1.37c-.4-.4-.92-.59-1.43-.59-.52 0-1.04.2-1.43.59L10.3 9.45l-7.72 7.72c-.78.78-.78 2.05 0 2.83L4 21.41c.39.39.9.59 1.41.59.51 0 1.02-.2 1.41-.59l7.78-7.78 2.81-2.81c.8-.78.8-2.07 0-2.86zM5.41 20L4 18.59l7.72-7.72 1.47 1.35L5.41 20z\"/>\n",
              "  </svg>\n",
              "      </button>\n",
              "      \n",
              "  <style>\n",
              "    .colab-df-container {\n",
              "      display:flex;\n",
              "      flex-wrap:wrap;\n",
              "      gap: 12px;\n",
              "    }\n",
              "\n",
              "    .colab-df-convert {\n",
              "      background-color: #E8F0FE;\n",
              "      border: none;\n",
              "      border-radius: 50%;\n",
              "      cursor: pointer;\n",
              "      display: none;\n",
              "      fill: #1967D2;\n",
              "      height: 32px;\n",
              "      padding: 0 0 0 0;\n",
              "      width: 32px;\n",
              "    }\n",
              "\n",
              "    .colab-df-convert:hover {\n",
              "      background-color: #E2EBFA;\n",
              "      box-shadow: 0px 1px 2px rgba(60, 64, 67, 0.3), 0px 1px 3px 1px rgba(60, 64, 67, 0.15);\n",
              "      fill: #174EA6;\n",
              "    }\n",
              "\n",
              "    [theme=dark] .colab-df-convert {\n",
              "      background-color: #3B4455;\n",
              "      fill: #D2E3FC;\n",
              "    }\n",
              "\n",
              "    [theme=dark] .colab-df-convert:hover {\n",
              "      background-color: #434B5C;\n",
              "      box-shadow: 0px 1px 3px 1px rgba(0, 0, 0, 0.15);\n",
              "      filter: drop-shadow(0px 1px 2px rgba(0, 0, 0, 0.3));\n",
              "      fill: #FFFFFF;\n",
              "    }\n",
              "  </style>\n",
              "\n",
              "      <script>\n",
              "        const buttonEl =\n",
              "          document.querySelector('#df-1cbf7a4d-8f12-4a9f-815a-c1ef84688b7a button.colab-df-convert');\n",
              "        buttonEl.style.display =\n",
              "          google.colab.kernel.accessAllowed ? 'block' : 'none';\n",
              "\n",
              "        async function convertToInteractive(key) {\n",
              "          const element = document.querySelector('#df-1cbf7a4d-8f12-4a9f-815a-c1ef84688b7a');\n",
              "          const dataTable =\n",
              "            await google.colab.kernel.invokeFunction('convertToInteractive',\n",
              "                                                     [key], {});\n",
              "          if (!dataTable) return;\n",
              "\n",
              "          const docLinkHtml = 'Like what you see? Visit the ' +\n",
              "            '<a target=\"_blank\" href=https://colab.research.google.com/notebooks/data_table.ipynb>data table notebook</a>'\n",
              "            + ' to learn more about interactive tables.';\n",
              "          element.innerHTML = '';\n",
              "          dataTable['output_type'] = 'display_data';\n",
              "          await google.colab.output.renderOutput(dataTable, element);\n",
              "          const docLink = document.createElement('div');\n",
              "          docLink.innerHTML = docLinkHtml;\n",
              "          element.appendChild(docLink);\n",
              "        }\n",
              "      </script>\n",
              "    </div>\n",
              "  </div>\n",
              "  "
            ]
          },
          "metadata": {},
          "execution_count": 4
        }
      ]
    },
    {
      "cell_type": "code",
      "source": [
        "students"
      ],
      "metadata": {
        "colab": {
          "base_uri": "https://localhost:8080/",
          "height": 424
        },
        "id": "R_eJ6wHLHRFZ",
        "outputId": "66b71e91-a9ef-4403-e190-36c7b06a4233"
      },
      "execution_count": 5,
      "outputs": [
        {
          "output_type": "execute_result",
          "data": {
            "text/plain": [
              "     Unnamed: 0  GPA Range  Degree  Specialization       GPA  \\\n",
              "0             0          4       1               3  4.072043   \n",
              "1             1          4       1               1  4.919584   \n",
              "2             2          4       1               0  4.628680   \n",
              "3             3          4       1               1  4.018812   \n",
              "4             4          3       0               1  3.340982   \n",
              "..          ...        ...     ...             ...       ...   \n",
              "995         995          4       0               3  4.753689   \n",
              "996         996          4       0               1  4.763808   \n",
              "997         997          4       0               4  4.947150   \n",
              "998         998          3       0               1  3.084214   \n",
              "999         999          3       1               4  3.262706   \n",
              "\n",
              "                                               courses  \n",
              "0    CS5422,CS5223,CS4237,CS3281,CS6213,CS6211,CS32...  \n",
              "1    CS6206,CS3241,CS5237,CS4350,CS3242,CS3281,CS42...  \n",
              "2    CS5244,CS6270,CS6234,CS5223,CS3230,CS3284,CS22...  \n",
              "3    CS5422,CS3220,CS3103,CS4224,CS4237,CS5248,CS32...  \n",
              "4    CS6206,CS3241,CS5240,CS4350,CS5343,CS6243,CS62...  \n",
              "..                                                 ...  \n",
              "995  CS6206,CS5238,CS4223,CS6211,CS5250,CS5224,CS53...  \n",
              "996  CS2309,CS4215,CS1010FC/X,CS3211,CS5271,CS1281,...  \n",
              "997  CS4243,CS3241,CS6207,CS4350,CS5343,CS6241,CS62...  \n",
              "998  CS5422,CS3220,CS4344,CS2107,CS3283,CS6205,CS32...  \n",
              "999  CS3202,CS4211,CS3205,CS3283,CS6280,CS5271,CS32...  \n",
              "\n",
              "[1000 rows x 6 columns]"
            ],
            "text/html": [
              "\n",
              "  <div id=\"df-29a9d057-f5b2-455d-8b2b-71cda135380a\">\n",
              "    <div class=\"colab-df-container\">\n",
              "      <div>\n",
              "<style scoped>\n",
              "    .dataframe tbody tr th:only-of-type {\n",
              "        vertical-align: middle;\n",
              "    }\n",
              "\n",
              "    .dataframe tbody tr th {\n",
              "        vertical-align: top;\n",
              "    }\n",
              "\n",
              "    .dataframe thead th {\n",
              "        text-align: right;\n",
              "    }\n",
              "</style>\n",
              "<table border=\"1\" class=\"dataframe\">\n",
              "  <thead>\n",
              "    <tr style=\"text-align: right;\">\n",
              "      <th></th>\n",
              "      <th>Unnamed: 0</th>\n",
              "      <th>GPA Range</th>\n",
              "      <th>Degree</th>\n",
              "      <th>Specialization</th>\n",
              "      <th>GPA</th>\n",
              "      <th>courses</th>\n",
              "    </tr>\n",
              "  </thead>\n",
              "  <tbody>\n",
              "    <tr>\n",
              "      <th>0</th>\n",
              "      <td>0</td>\n",
              "      <td>4</td>\n",
              "      <td>1</td>\n",
              "      <td>3</td>\n",
              "      <td>4.072043</td>\n",
              "      <td>CS5422,CS5223,CS4237,CS3281,CS6213,CS6211,CS32...</td>\n",
              "    </tr>\n",
              "    <tr>\n",
              "      <th>1</th>\n",
              "      <td>1</td>\n",
              "      <td>4</td>\n",
              "      <td>1</td>\n",
              "      <td>1</td>\n",
              "      <td>4.919584</td>\n",
              "      <td>CS6206,CS3241,CS5237,CS4350,CS3242,CS3281,CS42...</td>\n",
              "    </tr>\n",
              "    <tr>\n",
              "      <th>2</th>\n",
              "      <td>2</td>\n",
              "      <td>4</td>\n",
              "      <td>1</td>\n",
              "      <td>0</td>\n",
              "      <td>4.628680</td>\n",
              "      <td>CS5244,CS6270,CS6234,CS5223,CS3230,CS3284,CS22...</td>\n",
              "    </tr>\n",
              "    <tr>\n",
              "      <th>3</th>\n",
              "      <td>3</td>\n",
              "      <td>4</td>\n",
              "      <td>1</td>\n",
              "      <td>1</td>\n",
              "      <td>4.018812</td>\n",
              "      <td>CS5422,CS3220,CS3103,CS4224,CS4237,CS5248,CS32...</td>\n",
              "    </tr>\n",
              "    <tr>\n",
              "      <th>4</th>\n",
              "      <td>4</td>\n",
              "      <td>3</td>\n",
              "      <td>0</td>\n",
              "      <td>1</td>\n",
              "      <td>3.340982</td>\n",
              "      <td>CS6206,CS3241,CS5240,CS4350,CS5343,CS6243,CS62...</td>\n",
              "    </tr>\n",
              "    <tr>\n",
              "      <th>...</th>\n",
              "      <td>...</td>\n",
              "      <td>...</td>\n",
              "      <td>...</td>\n",
              "      <td>...</td>\n",
              "      <td>...</td>\n",
              "      <td>...</td>\n",
              "    </tr>\n",
              "    <tr>\n",
              "      <th>995</th>\n",
              "      <td>995</td>\n",
              "      <td>4</td>\n",
              "      <td>0</td>\n",
              "      <td>3</td>\n",
              "      <td>4.753689</td>\n",
              "      <td>CS6206,CS5238,CS4223,CS6211,CS5250,CS5224,CS53...</td>\n",
              "    </tr>\n",
              "    <tr>\n",
              "      <th>996</th>\n",
              "      <td>996</td>\n",
              "      <td>4</td>\n",
              "      <td>0</td>\n",
              "      <td>1</td>\n",
              "      <td>4.763808</td>\n",
              "      <td>CS2309,CS4215,CS1010FC/X,CS3211,CS5271,CS1281,...</td>\n",
              "    </tr>\n",
              "    <tr>\n",
              "      <th>997</th>\n",
              "      <td>997</td>\n",
              "      <td>4</td>\n",
              "      <td>0</td>\n",
              "      <td>4</td>\n",
              "      <td>4.947150</td>\n",
              "      <td>CS4243,CS3241,CS6207,CS4350,CS5343,CS6241,CS62...</td>\n",
              "    </tr>\n",
              "    <tr>\n",
              "      <th>998</th>\n",
              "      <td>998</td>\n",
              "      <td>3</td>\n",
              "      <td>0</td>\n",
              "      <td>1</td>\n",
              "      <td>3.084214</td>\n",
              "      <td>CS5422,CS3220,CS4344,CS2107,CS3283,CS6205,CS32...</td>\n",
              "    </tr>\n",
              "    <tr>\n",
              "      <th>999</th>\n",
              "      <td>999</td>\n",
              "      <td>3</td>\n",
              "      <td>1</td>\n",
              "      <td>4</td>\n",
              "      <td>3.262706</td>\n",
              "      <td>CS3202,CS4211,CS3205,CS3283,CS6280,CS5271,CS32...</td>\n",
              "    </tr>\n",
              "  </tbody>\n",
              "</table>\n",
              "<p>1000 rows × 6 columns</p>\n",
              "</div>\n",
              "      <button class=\"colab-df-convert\" onclick=\"convertToInteractive('df-29a9d057-f5b2-455d-8b2b-71cda135380a')\"\n",
              "              title=\"Convert this dataframe to an interactive table.\"\n",
              "              style=\"display:none;\">\n",
              "        \n",
              "  <svg xmlns=\"http://www.w3.org/2000/svg\" height=\"24px\"viewBox=\"0 0 24 24\"\n",
              "       width=\"24px\">\n",
              "    <path d=\"M0 0h24v24H0V0z\" fill=\"none\"/>\n",
              "    <path d=\"M18.56 5.44l.94 2.06.94-2.06 2.06-.94-2.06-.94-.94-2.06-.94 2.06-2.06.94zm-11 1L8.5 8.5l.94-2.06 2.06-.94-2.06-.94L8.5 2.5l-.94 2.06-2.06.94zm10 10l.94 2.06.94-2.06 2.06-.94-2.06-.94-.94-2.06-.94 2.06-2.06.94z\"/><path d=\"M17.41 7.96l-1.37-1.37c-.4-.4-.92-.59-1.43-.59-.52 0-1.04.2-1.43.59L10.3 9.45l-7.72 7.72c-.78.78-.78 2.05 0 2.83L4 21.41c.39.39.9.59 1.41.59.51 0 1.02-.2 1.41-.59l7.78-7.78 2.81-2.81c.8-.78.8-2.07 0-2.86zM5.41 20L4 18.59l7.72-7.72 1.47 1.35L5.41 20z\"/>\n",
              "  </svg>\n",
              "      </button>\n",
              "      \n",
              "  <style>\n",
              "    .colab-df-container {\n",
              "      display:flex;\n",
              "      flex-wrap:wrap;\n",
              "      gap: 12px;\n",
              "    }\n",
              "\n",
              "    .colab-df-convert {\n",
              "      background-color: #E8F0FE;\n",
              "      border: none;\n",
              "      border-radius: 50%;\n",
              "      cursor: pointer;\n",
              "      display: none;\n",
              "      fill: #1967D2;\n",
              "      height: 32px;\n",
              "      padding: 0 0 0 0;\n",
              "      width: 32px;\n",
              "    }\n",
              "\n",
              "    .colab-df-convert:hover {\n",
              "      background-color: #E2EBFA;\n",
              "      box-shadow: 0px 1px 2px rgba(60, 64, 67, 0.3), 0px 1px 3px 1px rgba(60, 64, 67, 0.15);\n",
              "      fill: #174EA6;\n",
              "    }\n",
              "\n",
              "    [theme=dark] .colab-df-convert {\n",
              "      background-color: #3B4455;\n",
              "      fill: #D2E3FC;\n",
              "    }\n",
              "\n",
              "    [theme=dark] .colab-df-convert:hover {\n",
              "      background-color: #434B5C;\n",
              "      box-shadow: 0px 1px 3px 1px rgba(0, 0, 0, 0.15);\n",
              "      filter: drop-shadow(0px 1px 2px rgba(0, 0, 0, 0.3));\n",
              "      fill: #FFFFFF;\n",
              "    }\n",
              "  </style>\n",
              "\n",
              "      <script>\n",
              "        const buttonEl =\n",
              "          document.querySelector('#df-29a9d057-f5b2-455d-8b2b-71cda135380a button.colab-df-convert');\n",
              "        buttonEl.style.display =\n",
              "          google.colab.kernel.accessAllowed ? 'block' : 'none';\n",
              "\n",
              "        async function convertToInteractive(key) {\n",
              "          const element = document.querySelector('#df-29a9d057-f5b2-455d-8b2b-71cda135380a');\n",
              "          const dataTable =\n",
              "            await google.colab.kernel.invokeFunction('convertToInteractive',\n",
              "                                                     [key], {});\n",
              "          if (!dataTable) return;\n",
              "\n",
              "          const docLinkHtml = 'Like what you see? Visit the ' +\n",
              "            '<a target=\"_blank\" href=https://colab.research.google.com/notebooks/data_table.ipynb>data table notebook</a>'\n",
              "            + ' to learn more about interactive tables.';\n",
              "          element.innerHTML = '';\n",
              "          dataTable['output_type'] = 'display_data';\n",
              "          await google.colab.output.renderOutput(dataTable, element);\n",
              "          const docLink = document.createElement('div');\n",
              "          docLink.innerHTML = docLinkHtml;\n",
              "          element.appendChild(docLink);\n",
              "        }\n",
              "      </script>\n",
              "    </div>\n",
              "  </div>\n",
              "  "
            ]
          },
          "metadata": {},
          "execution_count": 5
        }
      ]
    },
    {
      "cell_type": "code",
      "source": [
        "courses.specialisation.unique()"
      ],
      "metadata": {
        "colab": {
          "base_uri": "https://localhost:8080/"
        },
        "id": "Qk2ndD-pHTZ5",
        "outputId": "c5ab16f4-e1b9-4d83-dc78-c877b4306413"
      },
      "execution_count": 6,
      "outputs": [
        {
          "output_type": "execute_result",
          "data": {
            "text/plain": [
              "array(['Core', 'DB', 'SE', 'PL', 'Networking', 'Multimedia', 'Security',\n",
              "       nan, 'Parallel', 'Parallel, PL', 'Graphics', 'Algo', 'PL, SE',\n",
              "       'AI', 'AI, DB', 'Algo, Networking, Parallel', 'Security, SE',\n",
              "       'AI, Graphics', 'AI, Multimedia', 'Algo, Security', 'AI, PL',\n",
              "       'Networking, Parallel', 'Algo, Graphics', 'Graphics, Multimedia',\n",
              "       'DB, Security', 'Netoworking'], dtype=object)"
            ]
          },
          "metadata": {},
          "execution_count": 6
        }
      ]
    },
    {
      "cell_type": "code",
      "source": [
        "#We find that there is a typo 'netoworking' which should be networking\n",
        "courses.specialisation = courses.specialisation.replace('Netoworking','Networking')\n",
        "courses.specialisation.unique()"
      ],
      "metadata": {
        "colab": {
          "base_uri": "https://localhost:8080/"
        },
        "id": "PwcFgdRqHW2p",
        "outputId": "39707c1d-56ed-449e-ba71-4ce6ae9718f6"
      },
      "execution_count": 7,
      "outputs": [
        {
          "output_type": "execute_result",
          "data": {
            "text/plain": [
              "array(['Core', 'DB', 'SE', 'PL', 'Networking', 'Multimedia', 'Security',\n",
              "       nan, 'Parallel', 'Parallel, PL', 'Graphics', 'Algo', 'PL, SE',\n",
              "       'AI', 'AI, DB', 'Algo, Networking, Parallel', 'Security, SE',\n",
              "       'AI, Graphics', 'AI, Multimedia', 'Algo, Security', 'AI, PL',\n",
              "       'Networking, Parallel', 'Algo, Graphics', 'Graphics, Multimedia',\n",
              "       'DB, Security'], dtype=object)"
            ]
          },
          "metadata": {},
          "execution_count": 7
        }
      ]
    },
    {
      "cell_type": "markdown",
      "metadata": {
        "id": "OKrejjTxXgv0"
      },
      "source": [
        "# Question 1: Creating the preprocessing pipeline"
      ]
    },
    {
      "cell_type": "markdown",
      "metadata": {
        "id": "yQ_EU5o9Xgv1"
      },
      "source": [
        "We want to create a sklearn pipeline to efficiently preprocess the data and prepare it for training a model. We use three different features in the `courses` data: `specialisation`, `info` and `workload`. We want to represent every feature in a numeric form and merge them to form a feature vector for every course. We do so in the following way:\n",
        "- `specialisation` represents one of the six levels of the module. For instance: CS2103 is a Software Engineering (SE) specialisation module. Encode this categorical feature into a vector. The decision of handling missing values is left to you! *(Hint: You can use `MultiLabelBinerizer` to do so.)*\n",
        "- `info` provides a short discription of the module. We want to convert it into a vector using CountVectorizer. *Don't forget to remove the stopwords* while doing so.\n",
        "-  `workload` states the intended distribution of workload over lectures, tutorials, labs and self study. We want to find the workload as the sum of individual workloads. For instnce: 3-1-1-3-2 workload transforms to 10 hours.\n",
        "\n",
        "Provide implementation for three classes that help us build the pipeline. `transformed_courses` should be a numpy array of shape `[n_courses X n_features]`.\n",
        "\n",
        "                                                                                                   (6 marks)"
      ]
    },
    {
      "cell_type": "code",
      "execution_count": 8,
      "metadata": {
        "id": "sVBlKTN6Xgv1"
      },
      "outputs": [],
      "source": [
        "class WorkloadTransformer:        \n",
        "    def fit(self, X, y = None, **fit_params):\n",
        "        return self\n",
        "    \n",
        "    def transform(self, X, y = None, **fit_params):\n",
        "        X = X.copy()\n",
        "        X['workload'] = X['workload'].str.split('-')\n",
        "        X['workload'] = X['workload'].apply(lambda x: sum([float(i) for i in x]))\n",
        "        return X['workload'].values.reshape(-1,1)\n"
      ]
    },
    {
      "cell_type": "code",
      "execution_count": 9,
      "metadata": {
        "id": "EZ_fhJkFXgv2"
      },
      "outputs": [],
      "source": [
        "class InfoTransformer:        \n",
        "    def fit(self, X, y = None, **fit_params):\n",
        "        self.vectorizer = CountVectorizer(stop_words='english')\n",
        "        self.vectorizer.fit(X['info'])\n",
        "        return self\n",
        "    \n",
        "    def transform(self, X, y = None, **fit_params):\n",
        "        return self.vectorizer.transform(X['info']).toarray()"
      ]
    },
    {
      "cell_type": "code",
      "execution_count": 10,
      "metadata": {
        "id": "oLKGAPR1Xgv3"
      },
      "outputs": [],
      "source": [
        "class SpecTransformer:        \n",
        "    def fit(self, X, y = None, **fit_params):\n",
        "        X = X.copy()\n",
        "        X = X.dropna(axis=0, subset = ['specialisation'])\n",
        "        X['specialisation_split'] = X['specialisation'].str.split(', ')\n",
        "        self.binarizer = MultiLabelBinarizer()\n",
        "        self.binarizer.fit(X['specialisation_split'])\n",
        "        return self\n",
        "    \n",
        "    def transform(self, X, y = None, **fit_params):\n",
        "        X = X.copy()\n",
        "        X['specialisation'] = X['specialisation'].fillna(value='None')\n",
        "        X['specialisation_split'] = X['specialisation'].str.split(', ')\n",
        "        return self.binarizer.transform(X['specialisation_split'])"
      ]
    },
    {
      "cell_type": "code",
      "execution_count": 11,
      "metadata": {
        "id": "kcx2rx6CXgv4",
        "colab": {
          "base_uri": "https://localhost:8080/"
        },
        "outputId": "3134b785-77f1-4ec8-ecaf-b3b8fa8b4f0e"
      },
      "outputs": [
        {
          "output_type": "stream",
          "name": "stdout",
          "text": [
            "(184, 2124)\n"
          ]
        }
      ],
      "source": [
        "featureTransformer = FeatureUnion([\n",
        "    ('workload_processing', Pipeline([('wrkld', WorkloadTransformer())])),\n",
        "    ('info_processing', Pipeline([('info', InfoTransformer())])),\n",
        "    ('spec_processing', Pipeline([('spec', SpecTransformer())])),\n",
        "])\n",
        "\n",
        "featureTransformer.fit(courses)\n",
        "transformed_courses = featureTransformer.transform(courses)\n",
        "print(transformed_courses.shape)"
      ]
    },
    {
      "cell_type": "markdown",
      "metadata": {
        "id": "Xtc4ObIlXgv5"
      },
      "source": [
        "Now we prepare our testing data in the same way we preprocessed the course. `students` data comprises of 1000 students and a list of modules they have taken. "
      ]
    },
    {
      "cell_type": "markdown",
      "metadata": {
        "id": "HQu6wIgYXgv6"
      },
      "source": [
        "Create `Xtest` and `Ytest` as two matrices. `Xtest`, of size `1000*5`, comprises of first five modules for every student in the list. `Ytest`, of size `1000*[remaining_modules]`, comprises of rest of the modules for every student in the list. \n",
        "We do so in order to assess the performance of the recommender. We assess the recommender based on its effectiveness to predict the modules given a list of five modules as the input.\n",
        "\n",
        "For instance: \n",
        "- `Xtest[0] = ['CS2105', 'CS4222', 'CS6270', 'CS6205', 'CS4226']`\n",
        "- `Ytest[0] = ['CS3282', 'CS6204', 'CS5223', 'CS3281', 'CS4344', 'CS5422', 'CS3237', 'CS5233']`.\n",
        "\n",
        "<div align=\"right\">(1 mark)</align>"
      ]
    },
    {
      "cell_type": "code",
      "execution_count": 12,
      "metadata": {
        "id": "R2t2xUhYXgv6",
        "colab": {
          "base_uri": "https://localhost:8080/"
        },
        "outputId": "94e55399-28fc-43c2-80ec-34c448f03c91"
      },
      "outputs": [
        {
          "output_type": "stream",
          "name": "stdout",
          "text": [
            "['CS5422', 'CS5223', 'CS4237', 'CS3281', 'CS6213']\n",
            "['CS6211', 'CS3282', 'CS2100', 'CS2105', 'CS5250', 'CS3210']\n"
          ]
        }
      ],
      "source": [
        "Xtest = []\n",
        "Ytest = []\n",
        "\n",
        "for i in range(len(students)):\n",
        "    Xtest.append(students['courses'][i].split(',')[:5])\n",
        "    Ytest.append(students['courses'][i].split(',')[5:])\n",
        "\n",
        "print(Xtest[0])\n",
        "print(Ytest[0])\n",
        "\n"
      ]
    },
    {
      "cell_type": "markdown",
      "metadata": {
        "id": "g8-D7LhvXgv7"
      },
      "source": [
        "For every student in `Xtest`, we need to transform the list of 5 modules to the feature space using the `featureTransformer` fit on the training data. For every module we will get a feature vector of size `n_features`. We add these feature vectors to get an aggregate feature vector for very student.\n",
        "\n",
        "Write a function `getFeatureVector` that takes in the list of modules and `featureTransformer`. It returns the feature vector for the specified list of courses. For instance, `getFeatureVector(Xtest[0], featureTransformer)` will return a vector of size `n_features`.\n",
        "\n",
        "<div align=\"right\">(3 marks)</div>"
      ]
    },
    {
      "cell_type": "code",
      "execution_count": 13,
      "metadata": {
        "id": "1FaBqoBPXgv7",
        "colab": {
          "base_uri": "https://localhost:8080/"
        },
        "outputId": "da094ada-e989-4bf6-f7a4-1e54401d93c1"
      },
      "outputs": [
        {
          "output_type": "execute_result",
          "data": {
            "text/plain": [
              "(2124,)"
            ]
          },
          "metadata": {},
          "execution_count": 13
        }
      ],
      "source": [
        "def getFeatureVector(modules, featureTransformer):\n",
        "    X = courses[courses['code'].isin(modules)]\n",
        "    result = featureTransformer.transform(X).sum(axis=0)\n",
        "    return result\n",
        "\n",
        "getFeatureVector(Xtest[0], featureTransformer).shape"
      ]
    },
    {
      "cell_type": "markdown",
      "metadata": {
        "id": "CuwxpWB2Xgv7"
      },
      "source": [
        "# Question 2: Content based recommender"
      ]
    },
    {
      "cell_type": "markdown",
      "metadata": {
        "id": "vJbpI-xdXgv8"
      },
      "source": [
        "We can use a model as simple as K-nearest neighbour (KNN) to perform a content based recommendation. If we provide a list of 5 modules to the recommender, it provide us a list of modules that are similar to the specified modules."
      ]
    },
    {
      "cell_type": "markdown",
      "metadata": {
        "id": "fQEMNzrcXgv8"
      },
      "source": [
        "`sklearn` provides `NearestNeighbors` as well as `KNeighborsClassifier`, both of which have a similar functionality. `NearestNeighbors` provides as an easy functionality to predict a list of K nearest neighbours. Therefore, we prefer it over `KNeighborsClassifier`. If we want to find K nearest points to a datapoint`d`, we need to use `n_neighbors` as K + 1 because the list includes `d` itself.\n",
        "\n",
        "You can now train the model using the training data, which comprises of `transformed_courses` and with their codes as the labels. \n",
        "<div align=\"right\">(1 mark)</div>"
      ]
    },
    {
      "cell_type": "code",
      "execution_count": 14,
      "metadata": {
        "id": "ezqrA0XsXgv8",
        "colab": {
          "base_uri": "https://localhost:8080/",
          "height": 75
        },
        "outputId": "a0212db9-81cb-4752-ea3f-6bd6fb9316a9"
      },
      "outputs": [
        {
          "output_type": "execute_result",
          "data": {
            "text/plain": [
              "NearestNeighbors(algorithm='brute', n_neighbors=6)"
            ],
            "text/html": [
              "<style>#sk-container-id-1 {color: black;background-color: white;}#sk-container-id-1 pre{padding: 0;}#sk-container-id-1 div.sk-toggleable {background-color: white;}#sk-container-id-1 label.sk-toggleable__label {cursor: pointer;display: block;width: 100%;margin-bottom: 0;padding: 0.3em;box-sizing: border-box;text-align: center;}#sk-container-id-1 label.sk-toggleable__label-arrow:before {content: \"▸\";float: left;margin-right: 0.25em;color: #696969;}#sk-container-id-1 label.sk-toggleable__label-arrow:hover:before {color: black;}#sk-container-id-1 div.sk-estimator:hover label.sk-toggleable__label-arrow:before {color: black;}#sk-container-id-1 div.sk-toggleable__content {max-height: 0;max-width: 0;overflow: hidden;text-align: left;background-color: #f0f8ff;}#sk-container-id-1 div.sk-toggleable__content pre {margin: 0.2em;color: black;border-radius: 0.25em;background-color: #f0f8ff;}#sk-container-id-1 input.sk-toggleable__control:checked~div.sk-toggleable__content {max-height: 200px;max-width: 100%;overflow: auto;}#sk-container-id-1 input.sk-toggleable__control:checked~label.sk-toggleable__label-arrow:before {content: \"▾\";}#sk-container-id-1 div.sk-estimator input.sk-toggleable__control:checked~label.sk-toggleable__label {background-color: #d4ebff;}#sk-container-id-1 div.sk-label input.sk-toggleable__control:checked~label.sk-toggleable__label {background-color: #d4ebff;}#sk-container-id-1 input.sk-hidden--visually {border: 0;clip: rect(1px 1px 1px 1px);clip: rect(1px, 1px, 1px, 1px);height: 1px;margin: -1px;overflow: hidden;padding: 0;position: absolute;width: 1px;}#sk-container-id-1 div.sk-estimator {font-family: monospace;background-color: #f0f8ff;border: 1px dotted black;border-radius: 0.25em;box-sizing: border-box;margin-bottom: 0.5em;}#sk-container-id-1 div.sk-estimator:hover {background-color: #d4ebff;}#sk-container-id-1 div.sk-parallel-item::after {content: \"\";width: 100%;border-bottom: 1px solid gray;flex-grow: 1;}#sk-container-id-1 div.sk-label:hover label.sk-toggleable__label {background-color: #d4ebff;}#sk-container-id-1 div.sk-serial::before {content: \"\";position: absolute;border-left: 1px solid gray;box-sizing: border-box;top: 0;bottom: 0;left: 50%;z-index: 0;}#sk-container-id-1 div.sk-serial {display: flex;flex-direction: column;align-items: center;background-color: white;padding-right: 0.2em;padding-left: 0.2em;position: relative;}#sk-container-id-1 div.sk-item {position: relative;z-index: 1;}#sk-container-id-1 div.sk-parallel {display: flex;align-items: stretch;justify-content: center;background-color: white;position: relative;}#sk-container-id-1 div.sk-item::before, #sk-container-id-1 div.sk-parallel-item::before {content: \"\";position: absolute;border-left: 1px solid gray;box-sizing: border-box;top: 0;bottom: 0;left: 50%;z-index: -1;}#sk-container-id-1 div.sk-parallel-item {display: flex;flex-direction: column;z-index: 1;position: relative;background-color: white;}#sk-container-id-1 div.sk-parallel-item:first-child::after {align-self: flex-end;width: 50%;}#sk-container-id-1 div.sk-parallel-item:last-child::after {align-self: flex-start;width: 50%;}#sk-container-id-1 div.sk-parallel-item:only-child::after {width: 0;}#sk-container-id-1 div.sk-dashed-wrapped {border: 1px dashed gray;margin: 0 0.4em 0.5em 0.4em;box-sizing: border-box;padding-bottom: 0.4em;background-color: white;}#sk-container-id-1 div.sk-label label {font-family: monospace;font-weight: bold;display: inline-block;line-height: 1.2em;}#sk-container-id-1 div.sk-label-container {text-align: center;}#sk-container-id-1 div.sk-container {/* jupyter's `normalize.less` sets `[hidden] { display: none; }` but bootstrap.min.css set `[hidden] { display: none !important; }` so we also need the `!important` here to be able to override the default hidden behavior on the sphinx rendered scikit-learn.org. See: https://github.com/scikit-learn/scikit-learn/issues/21755 */display: inline-block !important;position: relative;}#sk-container-id-1 div.sk-text-repr-fallback {display: none;}</style><div id=\"sk-container-id-1\" class=\"sk-top-container\"><div class=\"sk-text-repr-fallback\"><pre>NearestNeighbors(algorithm=&#x27;brute&#x27;, n_neighbors=6)</pre><b>In a Jupyter environment, please rerun this cell to show the HTML representation or trust the notebook. <br />On GitHub, the HTML representation is unable to render, please try loading this page with nbviewer.org.</b></div><div class=\"sk-container\" hidden><div class=\"sk-item\"><div class=\"sk-estimator sk-toggleable\"><input class=\"sk-toggleable__control sk-hidden--visually\" id=\"sk-estimator-id-1\" type=\"checkbox\" checked><label for=\"sk-estimator-id-1\" class=\"sk-toggleable__label sk-toggleable__label-arrow\">NearestNeighbors</label><div class=\"sk-toggleable__content\"><pre>NearestNeighbors(algorithm=&#x27;brute&#x27;, n_neighbors=6)</pre></div></div></div></div></div>"
            ]
          },
          "metadata": {},
          "execution_count": 14
        }
      ],
      "source": [
        "K = 5\n",
        "model = NearestNeighbors(algorithm = \"brute\", n_neighbors = K+1)\n",
        "## Write your code here\n",
        "\n",
        "training_data = pd.DataFrame(transformed_courses)\n",
        "training_data.index = courses.code\n",
        "model.fit(training_data)"
      ]
    },
    {
      "cell_type": "markdown",
      "metadata": {
        "id": "T_Oo47yaXgv9"
      },
      "source": [
        "It is time to see our model in action. Let's see what modules our model reommends based on the modules taken by a student.\n",
        "\n",
        "Write a function that takes in a *pre-trained* model of your choice as input and the list of modules. It returns the top-K recommendations of the model. Print the top 6 recommendations for the first student. \n",
        "<div align=\"right\">(3 marks)</div>"
      ]
    },
    {
      "cell_type": "code",
      "execution_count": 15,
      "metadata": {
        "id": "wH0yg5I6Xgv9",
        "colab": {
          "base_uri": "https://localhost:8080/"
        },
        "outputId": "92fbc2f9-04e4-40ed-c962-0b665a0225f8"
      },
      "outputs": [
        {
          "output_type": "stream",
          "name": "stdout",
          "text": [
            "['CS3203' 'CS3205' 'CS5223' 'CS2020' 'CS3216' 'CS3217']\n"
          ]
        }
      ],
      "source": [
        "def recommend(model, modulesTaken, k = 5):\n",
        "    featureVector = getFeatureVector(modulesTaken, featureTransformer).reshape(1,-1)\n",
        "    distances, indices = model.kneighbors(featureVector, n_neighbors=k)\n",
        "    result = courses.iloc[indices[0]]['code'].values\n",
        "    return result\n",
        "\n",
        "print(recommend(model, Xtest[0], 6))"
      ]
    },
    {
      "cell_type": "markdown",
      "metadata": {
        "id": "NVVhPPoPXgv9"
      },
      "source": [
        "# Question 3: Recommender evaluation"
      ]
    },
    {
      "cell_type": "markdown",
      "metadata": {
        "id": "YrxDQQWCXgv-"
      },
      "source": [
        "Is this the model any good?. To do so, we use **precision** and **recall** as our metrics. `Ytest` consists of true labels for every students. Using those labels as the ground truth, compute the precision and recall for every student. Write a code that prints values of average precision and recall for a specific value of `K` over the `students` dataset. Print the value of average precision and average recall for `K= 10`.\n",
        "\n",
        "                                                                                                     (2 marks)"
      ]
    },
    {
      "cell_type": "code",
      "execution_count": 16,
      "metadata": {
        "id": "IPyZswBBXgv-",
        "colab": {
          "base_uri": "https://localhost:8080/"
        },
        "outputId": "62f5fed3-b7eb-4a66-d02b-3cd9f0ef7c36"
      },
      "outputs": [
        {
          "output_type": "stream",
          "name": "stdout",
          "text": [
            "The average precision is 0.056900000000000006\n",
            "The average recall is 0.05636079270316887\n"
          ]
        }
      ],
      "source": [
        "# Write your code here\n",
        "def avg_precision_recall(model, Xtest, Ytest, k):\n",
        "    precision_score = []\n",
        "    recall_score = []\n",
        "    for i in range(len(Xtest)):\n",
        "        recommend_courses = recommend(model, Xtest[i], k)\n",
        "        ground_truth = Ytest[i]\n",
        "        precision_score.append(len(set(recommend_courses) & set(ground_truth)) / len(recommend_courses))\n",
        "        recall_score.append(len(set(recommend_courses) & set(ground_truth)) / len(ground_truth))\n",
        "    return np.mean(precision_score), np.mean(recall_score)\n",
        "\n",
        "avg_precision, avg_recall = avg_precision_recall(model, Xtest, Ytest, 10)\n",
        "print('The average precision is', avg_precision)\n",
        "print('The average recall is', avg_recall)"
      ]
    },
    {
      "cell_type": "markdown",
      "metadata": {
        "id": "NeR2w7IpXgv-"
      },
      "source": [
        "We observe that both precision and recall is not really great. The reason might be igh feature dimension, which may even be noisy. Append the exisiting `featureTransformer` with a PCA to reduce the dimension. \n",
        "\n",
        "Print the value of average precision and recall for `K= 10` after the introduction of PCA.\n",
        "\n",
        "                                                                                                     (2 marks)"
      ]
    },
    {
      "cell_type": "code",
      "execution_count": 17,
      "metadata": {
        "id": "HNr2Tb56Xgv_",
        "colab": {
          "base_uri": "https://localhost:8080/",
          "height": 430
        },
        "outputId": "f15ad9d7-b19f-432c-cab8-566f7df80e6d"
      },
      "outputs": [
        {
          "output_type": "display_data",
          "data": {
            "text/plain": [
              "<Figure size 640x480 with 1 Axes>"
            ],
            "image/png": "[encoded data removed]"
          },
          "metadata": {}
        }
      ],
      "source": [
        "# Write your code here\n",
        "pca = PCA(random_state=rng)\n",
        "pca.fit(transformed_courses)\n",
        "plt.plot(np.cumsum(pca.explained_variance_ratio_))\n",
        "plt.show()"
      ]
    },
    {
      "cell_type": "markdown",
      "source": [
        "We see from the graph that when the number of components is 125, it can explain about 95% of the variance, therefore we choose the number of components to be 125."
      ],
      "metadata": {
        "id": "LorLOawgQWAE"
      }
    },
    {
      "cell_type": "code",
      "source": [
        "pca_feature_transformer = Pipeline([('featureTransformer', featureTransformer), ('pca', PCA(n_components=125, random_state=rng))])\n",
        "pca_feature_transformer.fit(courses)"
      ],
      "metadata": {
        "colab": {
          "base_uri": "https://localhost:8080/",
          "height": 186
        },
        "id": "-EieR8yNQx2J",
        "outputId": "f134d0f6-9ebe-48a3-8778-3f0349dcac2c"
      },
      "execution_count": 18,
      "outputs": [
        {
          "output_type": "execute_result",
          "data": {
            "text/plain": [
              "Pipeline(steps=[('featureTransformer',\n",
              "                 FeatureUnion(transformer_list=[('workload_processing',\n",
              "                                                 Pipeline(steps=[('wrkld',\n",
              "                                                                  <__main__.WorkloadTransformer object at 0x7f7a9a383310>)])),\n",
              "                                                ('info_processing',\n",
              "                                                 Pipeline(steps=[('info',\n",
              "                                                                  <__main__.InfoTransformer object at 0x7f7a9a383940>)])),\n",
              "                                                ('spec_processing',\n",
              "                                                 Pipeline(steps=[('spec',\n",
              "                                                                  <__main__.SpecTransformer object at 0x7f7a9a3837c0>)]))])),\n",
              "                ('pca',\n",
              "                 PCA(n_components=125,\n",
              "                     random_state=RandomState(MT19937) at 0x7F7A9A53EE40))])"
            ],
            "text/html": [
              "<style>#sk-container-id-2 {color: black;background-color: white;}#sk-container-id-2 pre{padding: 0;}#sk-container-id-2 div.sk-toggleable {background-color: white;}#sk-container-id-2 label.sk-toggleable__label {cursor: pointer;display: block;width: 100%;margin-bottom: 0;padding: 0.3em;box-sizing: border-box;text-align: center;}#sk-container-id-2 label.sk-toggleable__label-arrow:before {content: \"▸\";float: left;margin-right: 0.25em;color: #696969;}#sk-container-id-2 label.sk-toggleable__label-arrow:hover:before {color: black;}#sk-container-id-2 div.sk-estimator:hover label.sk-toggleable__label-arrow:before {color: black;}#sk-container-id-2 div.sk-toggleable__content {max-height: 0;max-width: 0;overflow: hidden;text-align: left;background-color: #f0f8ff;}#sk-container-id-2 div.sk-toggleable__content pre {margin: 0.2em;color: black;border-radius: 0.25em;background-color: #f0f8ff;}#sk-container-id-2 input.sk-toggleable__control:checked~div.sk-toggleable__content {max-height: 200px;max-width: 100%;overflow: auto;}#sk-container-id-2 input.sk-toggleable__control:checked~label.sk-toggleable__label-arrow:before {content: \"▾\";}#sk-container-id-2 div.sk-estimator input.sk-toggleable__control:checked~label.sk-toggleable__label {background-color: #d4ebff;}#sk-container-id-2 div.sk-label input.sk-toggleable__control:checked~label.sk-toggleable__label {background-color: #d4ebff;}#sk-container-id-2 input.sk-hidden--visually {border: 0;clip: rect(1px 1px 1px 1px);clip: rect(1px, 1px, 1px, 1px);height: 1px;margin: -1px;overflow: hidden;padding: 0;position: absolute;width: 1px;}#sk-container-id-2 div.sk-estimator {font-family: monospace;background-color: #f0f8ff;border: 1px dotted black;border-radius: 0.25em;box-sizing: border-box;margin-bottom: 0.5em;}#sk-container-id-2 div.sk-estimator:hover {background-color: #d4ebff;}#sk-container-id-2 div.sk-parallel-item::after {content: \"\";width: 100%;border-bottom: 1px solid gray;flex-grow: 1;}#sk-container-id-2 div.sk-label:hover label.sk-toggleable__label {background-color: #d4ebff;}#sk-container-id-2 div.sk-serial::before {content: \"\";position: absolute;border-left: 1px solid gray;box-sizing: border-box;top: 0;bottom: 0;left: 50%;z-index: 0;}#sk-container-id-2 div.sk-serial {display: flex;flex-direction: column;align-items: center;background-color: white;padding-right: 0.2em;padding-left: 0.2em;position: relative;}#sk-container-id-2 div.sk-item {position: relative;z-index: 1;}#sk-container-id-2 div.sk-parallel {display: flex;align-items: stretch;justify-content: center;background-color: white;position: relative;}#sk-container-id-2 div.sk-item::before, #sk-container-id-2 div.sk-parallel-item::before {content: \"\";position: absolute;border-left: 1px solid gray;box-sizing: border-box;top: 0;bottom: 0;left: 50%;z-index: -1;}#sk-container-id-2 div.sk-parallel-item {display: flex;flex-direction: column;z-index: 1;position: relative;background-color: white;}#sk-container-id-2 div.sk-parallel-item:first-child::after {align-self: flex-end;width: 50%;}#sk-container-id-2 div.sk-parallel-item:last-child::after {align-self: flex-start;width: 50%;}#sk-container-id-2 div.sk-parallel-item:only-child::after {width: 0;}#sk-container-id-2 div.sk-dashed-wrapped {border: 1px dashed gray;margin: 0 0.4em 0.5em 0.4em;box-sizing: border-box;padding-bottom: 0.4em;background-color: white;}#sk-container-id-2 div.sk-label label {font-family: monospace;font-weight: bold;display: inline-block;line-height: 1.2em;}#sk-container-id-2 div.sk-label-container {text-align: center;}#sk-container-id-2 div.sk-container {/* jupyter's `normalize.less` sets `[hidden] { display: none; }` but bootstrap.min.css set `[hidden] { display: none !important; }` so we also need the `!important` here to be able to override the default hidden behavior on the sphinx rendered scikit-learn.org. See: https://github.com/scikit-learn/scikit-learn/issues/21755 */display: inline-block !important;position: relative;}#sk-container-id-2 div.sk-text-repr-fallback {display: none;}</style><div id=\"sk-container-id-2\" class=\"sk-top-container\"><div class=\"sk-text-repr-fallback\"><pre>Pipeline(steps=[(&#x27;featureTransformer&#x27;,\n",
              "                 FeatureUnion(transformer_list=[(&#x27;workload_processing&#x27;,\n",
              "                                                 Pipeline(steps=[(&#x27;wrkld&#x27;,\n",
              "                                                                  &lt;__main__.WorkloadTransformer object at 0x7f7a9a383310&gt;)])),\n",
              "                                                (&#x27;info_processing&#x27;,\n",
              "                                                 Pipeline(steps=[(&#x27;info&#x27;,\n",
              "                                                                  &lt;__main__.InfoTransformer object at 0x7f7a9a383940&gt;)])),\n",
              "                                                (&#x27;spec_processing&#x27;,\n",
              "                                                 Pipeline(steps=[(&#x27;spec&#x27;,\n",
              "                                                                  &lt;__main__.SpecTransformer object at 0x7f7a9a3837c0&gt;)]))])),\n",
              "                (&#x27;pca&#x27;,\n",
              "                 PCA(n_components=125,\n",
              "                     random_state=RandomState(MT19937) at 0x7F7A9A53EE40))])</pre><b>In a Jupyter environment, please rerun this cell to show the HTML representation or trust the notebook. <br />On GitHub, the HTML representation is unable to render, please try loading this page with nbviewer.org.</b></div><div class=\"sk-container\" hidden><div class=\"sk-item sk-dashed-wrapped\"><div class=\"sk-label-container\"><div class=\"sk-label sk-toggleable\"><input class=\"sk-toggleable__control sk-hidden--visually\" id=\"sk-estimator-id-2\" type=\"checkbox\" ><label for=\"sk-estimator-id-2\" class=\"sk-toggleable__label sk-toggleable__label-arrow\">Pipeline</label><div class=\"sk-toggleable__content\"><pre>Pipeline(steps=[(&#x27;featureTransformer&#x27;,\n",
              "                 FeatureUnion(transformer_list=[(&#x27;workload_processing&#x27;,\n",
              "                                                 Pipeline(steps=[(&#x27;wrkld&#x27;,\n",
              "                                                                  &lt;__main__.WorkloadTransformer object at 0x7f7a9a383310&gt;)])),\n",
              "                                                (&#x27;info_processing&#x27;,\n",
              "                                                 Pipeline(steps=[(&#x27;info&#x27;,\n",
              "                                                                  &lt;__main__.InfoTransformer object at 0x7f7a9a383940&gt;)])),\n",
              "                                                (&#x27;spec_processing&#x27;,\n",
              "                                                 Pipeline(steps=[(&#x27;spec&#x27;,\n",
              "                                                                  &lt;__main__.SpecTransformer object at 0x7f7a9a3837c0&gt;)]))])),\n",
              "                (&#x27;pca&#x27;,\n",
              "                 PCA(n_components=125,\n",
              "                     random_state=RandomState(MT19937) at 0x7F7A9A53EE40))])</pre></div></div></div><div class=\"sk-serial\"><div class=\"sk-item sk-dashed-wrapped\"><div class=\"sk-label-container\"><div class=\"sk-label sk-toggleable\"><input class=\"sk-toggleable__control sk-hidden--visually\" id=\"sk-estimator-id-3\" type=\"checkbox\" ><label for=\"sk-estimator-id-3\" class=\"sk-toggleable__label sk-toggleable__label-arrow\">featureTransformer: FeatureUnion</label><div class=\"sk-toggleable__content\"><pre>FeatureUnion(transformer_list=[(&#x27;workload_processing&#x27;,\n",
              "                                Pipeline(steps=[(&#x27;wrkld&#x27;,\n",
              "                                                 &lt;__main__.WorkloadTransformer object at 0x7f7a9a383310&gt;)])),\n",
              "                               (&#x27;info_processing&#x27;,\n",
              "                                Pipeline(steps=[(&#x27;info&#x27;,\n",
              "                                                 &lt;__main__.InfoTransformer object at 0x7f7a9a383940&gt;)])),\n",
              "                               (&#x27;spec_processing&#x27;,\n",
              "                                Pipeline(steps=[(&#x27;spec&#x27;,\n",
              "                                                 &lt;__main__.SpecTransformer object at 0x7f7a9a3837c0&gt;)]))])</pre></div></div></div><div class=\"sk-parallel\"><div class=\"sk-parallel-item\"><div class=\"sk-item\"><div class=\"sk-label-container\"><div class=\"sk-label sk-toggleable\"><label>workload_processing</label></div></div><div class=\"sk-serial\"><div class=\"sk-item\"><div class=\"sk-serial\"><div class=\"sk-item\"><div class=\"sk-estimator sk-toggleable\"><input class=\"sk-toggleable__control sk-hidden--visually\" id=\"sk-estimator-id-4\" type=\"checkbox\" ><label for=\"sk-estimator-id-4\" class=\"sk-toggleable__label sk-toggleable__label-arrow\">WorkloadTransformer</label><div class=\"sk-toggleable__content\"><pre>&lt;__main__.WorkloadTransformer object at 0x7f7a9a383310&gt;</pre></div></div></div></div></div></div></div></div><div class=\"sk-parallel-item\"><div class=\"sk-item\"><div class=\"sk-label-container\"><div class=\"sk-label sk-toggleable\"><label>info_processing</label></div></div><div class=\"sk-serial\"><div class=\"sk-item\"><div class=\"sk-serial\"><div class=\"sk-item\"><div class=\"sk-estimator sk-toggleable\"><input class=\"sk-toggleable__control sk-hidden--visually\" id=\"sk-estimator-id-5\" type=\"checkbox\" ><label for=\"sk-estimator-id-5\" class=\"sk-toggleable__label sk-toggleable__label-arrow\">InfoTransformer</label><div class=\"sk-toggleable__content\"><pre>&lt;__main__.InfoTransformer object at 0x7f7a9a383940&gt;</pre></div></div></div></div></div></div></div></div><div class=\"sk-parallel-item\"><div class=\"sk-item\"><div class=\"sk-label-container\"><div class=\"sk-label sk-toggleable\"><label>spec_processing</label></div></div><div class=\"sk-serial\"><div class=\"sk-item\"><div class=\"sk-serial\"><div class=\"sk-item\"><div class=\"sk-estimator sk-toggleable\"><input class=\"sk-toggleable__control sk-hidden--visually\" id=\"sk-estimator-id-6\" type=\"checkbox\" ><label for=\"sk-estimator-id-6\" class=\"sk-toggleable__label sk-toggleable__label-arrow\">SpecTransformer</label><div class=\"sk-toggleable__content\"><pre>&lt;__main__.SpecTransformer object at 0x7f7a9a3837c0&gt;</pre></div></div></div></div></div></div></div></div></div></div><div class=\"sk-item\"><div class=\"sk-estimator sk-toggleable\"><input class=\"sk-toggleable__control sk-hidden--visually\" id=\"sk-estimator-id-7\" type=\"checkbox\" ><label for=\"sk-estimator-id-7\" class=\"sk-toggleable__label sk-toggleable__label-arrow\">PCA</label><div class=\"sk-toggleable__content\"><pre>PCA(n_components=125, random_state=RandomState(MT19937) at 0x7F7A9A53EE40)</pre></div></div></div></div></div></div></div>"
            ]
          },
          "metadata": {},
          "execution_count": 18
        }
      ]
    },
    {
      "cell_type": "code",
      "source": [
        "K = 10\n",
        "pca_model = NearestNeighbors(algorithm = \"brute\", n_neighbors = K+1)\n",
        "transformed_courses_pca = pca_feature_transformer.transform(courses)\n",
        "training_data = pd.DataFrame(transformed_courses_pca)\n",
        "training_data.index = courses.code\n",
        "\n",
        "pca_model.fit(training_data.values)"
      ],
      "metadata": {
        "colab": {
          "base_uri": "https://localhost:8080/",
          "height": 75
        },
        "id": "HzF4wxbyQ7SR",
        "outputId": "d3a003de-ebfa-4164-f511-272199dcabed"
      },
      "execution_count": 19,
      "outputs": [
        {
          "output_type": "execute_result",
          "data": {
            "text/plain": [
              "NearestNeighbors(algorithm='brute', n_neighbors=11)"
            ],
            "text/html": [
              "<style>#sk-container-id-3 {color: black;background-color: white;}#sk-container-id-3 pre{padding: 0;}#sk-container-id-3 div.sk-toggleable {background-color: white;}#sk-container-id-3 label.sk-toggleable__label {cursor: pointer;display: block;width: 100%;margin-bottom: 0;padding: 0.3em;box-sizing: border-box;text-align: center;}#sk-container-id-3 label.sk-toggleable__label-arrow:before {content: \"▸\";float: left;margin-right: 0.25em;color: #696969;}#sk-container-id-3 label.sk-toggleable__label-arrow:hover:before {color: black;}#sk-container-id-3 div.sk-estimator:hover label.sk-toggleable__label-arrow:before {color: black;}#sk-container-id-3 div.sk-toggleable__content {max-height: 0;max-width: 0;overflow: hidden;text-align: left;background-color: #f0f8ff;}#sk-container-id-3 div.sk-toggleable__content pre {margin: 0.2em;color: black;border-radius: 0.25em;background-color: #f0f8ff;}#sk-container-id-3 input.sk-toggleable__control:checked~div.sk-toggleable__content {max-height: 200px;max-width: 100%;overflow: auto;}#sk-container-id-3 input.sk-toggleable__control:checked~label.sk-toggleable__label-arrow:before {content: \"▾\";}#sk-container-id-3 div.sk-estimator input.sk-toggleable__control:checked~label.sk-toggleable__label {background-color: #d4ebff;}#sk-container-id-3 div.sk-label input.sk-toggleable__control:checked~label.sk-toggleable__label {background-color: #d4ebff;}#sk-container-id-3 input.sk-hidden--visually {border: 0;clip: rect(1px 1px 1px 1px);clip: rect(1px, 1px, 1px, 1px);height: 1px;margin: -1px;overflow: hidden;padding: 0;position: absolute;width: 1px;}#sk-container-id-3 div.sk-estimator {font-family: monospace;background-color: #f0f8ff;border: 1px dotted black;border-radius: 0.25em;box-sizing: border-box;margin-bottom: 0.5em;}#sk-container-id-3 div.sk-estimator:hover {background-color: #d4ebff;}#sk-container-id-3 div.sk-parallel-item::after {content: \"\";width: 100%;border-bottom: 1px solid gray;flex-grow: 1;}#sk-container-id-3 div.sk-label:hover label.sk-toggleable__label {background-color: #d4ebff;}#sk-container-id-3 div.sk-serial::before {content: \"\";position: absolute;border-left: 1px solid gray;box-sizing: border-box;top: 0;bottom: 0;left: 50%;z-index: 0;}#sk-container-id-3 div.sk-serial {display: flex;flex-direction: column;align-items: center;background-color: white;padding-right: 0.2em;padding-left: 0.2em;position: relative;}#sk-container-id-3 div.sk-item {position: relative;z-index: 1;}#sk-container-id-3 div.sk-parallel {display: flex;align-items: stretch;justify-content: center;background-color: white;position: relative;}#sk-container-id-3 div.sk-item::before, #sk-container-id-3 div.sk-parallel-item::before {content: \"\";position: absolute;border-left: 1px solid gray;box-sizing: border-box;top: 0;bottom: 0;left: 50%;z-index: -1;}#sk-container-id-3 div.sk-parallel-item {display: flex;flex-direction: column;z-index: 1;position: relative;background-color: white;}#sk-container-id-3 div.sk-parallel-item:first-child::after {align-self: flex-end;width: 50%;}#sk-container-id-3 div.sk-parallel-item:last-child::after {align-self: flex-start;width: 50%;}#sk-container-id-3 div.sk-parallel-item:only-child::after {width: 0;}#sk-container-id-3 div.sk-dashed-wrapped {border: 1px dashed gray;margin: 0 0.4em 0.5em 0.4em;box-sizing: border-box;padding-bottom: 0.4em;background-color: white;}#sk-container-id-3 div.sk-label label {font-family: monospace;font-weight: bold;display: inline-block;line-height: 1.2em;}#sk-container-id-3 div.sk-label-container {text-align: center;}#sk-container-id-3 div.sk-container {/* jupyter's `normalize.less` sets `[hidden] { display: none; }` but bootstrap.min.css set `[hidden] { display: none !important; }` so we also need the `!important` here to be able to override the default hidden behavior on the sphinx rendered scikit-learn.org. See: https://github.com/scikit-learn/scikit-learn/issues/21755 */display: inline-block !important;position: relative;}#sk-container-id-3 div.sk-text-repr-fallback {display: none;}</style><div id=\"sk-container-id-3\" class=\"sk-top-container\"><div class=\"sk-text-repr-fallback\"><pre>NearestNeighbors(algorithm=&#x27;brute&#x27;, n_neighbors=11)</pre><b>In a Jupyter environment, please rerun this cell to show the HTML representation or trust the notebook. <br />On GitHub, the HTML representation is unable to render, please try loading this page with nbviewer.org.</b></div><div class=\"sk-container\" hidden><div class=\"sk-item\"><div class=\"sk-estimator sk-toggleable\"><input class=\"sk-toggleable__control sk-hidden--visually\" id=\"sk-estimator-id-8\" type=\"checkbox\" checked><label for=\"sk-estimator-id-8\" class=\"sk-toggleable__label sk-toggleable__label-arrow\">NearestNeighbors</label><div class=\"sk-toggleable__content\"><pre>NearestNeighbors(algorithm=&#x27;brute&#x27;, n_neighbors=11)</pre></div></div></div></div></div>"
            ]
          },
          "metadata": {},
          "execution_count": 19
        }
      ]
    },
    {
      "cell_type": "code",
      "source": [
        "def pca_recommend(model, modulesTaken, k = 5):\n",
        "    featureVector = getFeatureVector(modulesTaken, pca_feature_transformer).reshape(1,-1)\n",
        "    distances, indices = pca_model.kneighbors(featureVector, n_neighbors=k)\n",
        "    return courses.iloc[indices[0]]['code'].values\n",
        "\n",
        "def pca_avg_precision_recall(model, Xtest, Ytest, k):\n",
        "    precision_score = []\n",
        "    recall_score = []\n",
        "    for i in range(len(Xtest)):\n",
        "        pca_recommend_courses = pca_recommend(model, Xtest[i], k)\n",
        "        ground_truth = Ytest[i]\n",
        "        precision_score.append(len(set(pca_recommend_courses) & set(ground_truth)) / len(pca_recommend_courses))\n",
        "        recall_score.append(len(set(pca_recommend_courses) & set(ground_truth)) / len(ground_truth))\n",
        "    return np.mean(precision_score), np.mean(recall_score)\n",
        "\n",
        "pca_avg_precision, pca_avg_recall = pca_avg_precision_recall(model, Xtest, Ytest, 10)\n",
        "print('The average precision after pca is', pca_avg_precision)\n",
        "print('The average recall after pca is', pca_avg_recall)"
      ],
      "metadata": {
        "colab": {
          "base_uri": "https://localhost:8080/"
        },
        "id": "Ti2fdzLJRM-T",
        "outputId": "0dd49cbb-e01e-4703-897f-85eb73c4f889"
      },
      "execution_count": 20,
      "outputs": [
        {
          "output_type": "stream",
          "name": "stdout",
          "text": [
            "The average precision after pca is 0.1165\n",
            "The average recall after pca is 0.12412893328721503\n"
          ]
        }
      ]
    },
    {
      "cell_type": "markdown",
      "metadata": {
        "id": "Ih2GatUQXgv_"
      },
      "source": [
        "Extend the code to perform a grid search for the value of `K` that provides the best `F1_score`. Try for values of K from 1 to 10.\n",
        "\n",
        "                                                                                                     (2 marks)"
      ]
    },
    {
      "cell_type": "code",
      "execution_count": 21,
      "metadata": {
        "id": "XzTUXzCnXgv_"
      },
      "outputs": [],
      "source": [
        "# Write your code here\n",
        "def calculate_F1(precision, recall):\n",
        "    return (2 * precision * recall)/ (precision + recall)\n",
        "\n",
        "F1_score_list = []\n",
        "\n",
        "for K in range(1,11):\n",
        "    pca_avg_precision_score, pca_avg_recall_score = pca_avg_precision_recall(pca_model, Xtest, Ytest, K)\n",
        "    F1_score = calculate_F1(pca_avg_precision_score, pca_avg_recall_score)\n",
        "    F1_score_list.append(F1_score)"
      ]
    },
    {
      "cell_type": "code",
      "source": [
        "max_value = max(F1_score_list)\n",
        "max_k = np.argmax(F1_score_list) + 1\n",
        "print('The F1 score for K from 1 to 10 is' ,F1_score_list)\n",
        "print('The best F1 score is', max_value)\n",
        "print('The value K that provides the best F1_score is', max_k)"
      ],
      "metadata": {
        "colab": {
          "base_uri": "https://localhost:8080/"
        },
        "id": "A-Q168MBSBuC",
        "outputId": "3ccb9723-4d36-49d3-e2ef-e6e8b2fe34f9"
      },
      "execution_count": 22,
      "outputs": [
        {
          "output_type": "stream",
          "name": "stdout",
          "text": [
            "The F1 score for K from 1 to 10 is [0.007122289477796296, 0.010848343632195463, 0.018505911310868015, 0.024278702072831775, 0.03573484731092714, 0.05244583089999401, 0.07222247017661457, 0.09284173495442985, 0.10672292346945458, 0.12019353226072658]\n",
            "The best F1 score is 0.12019353226072658\n",
            "The value K that provides the best F1_score is 10\n"
          ]
        }
      ]
    }
  ],
  "metadata": {
    "colab": {
      "provenance": []
    },
    "kernelspec": {
      "display_name": "Python 3",
      "language": "python",
      "name": "python3"
    },
    "language_info": {
      "codemirror_mode": {
        "name": "ipython",
        "version": 3
      },
      "file_extension": ".py",
      "mimetype": "text/x-python",
      "name": "python",
      "nbconvert_exporter": "python",
      "pygments_lexer": "ipython3",
      "version": "3.8.5"
    }
  },
  "nbformat": 4,
  "nbformat_minor": 0
}